{
 "cells": [
  {
   "cell_type": "code",
   "execution_count": 2,
   "metadata": {},
   "outputs": [],
   "source": [
    "import re\n",
    "import timeit\n",
    "from time import perf_counter\n",
    "import pandas as pd\n",
    "from collections import defaultdict\n",
    "import csv\n"
   ]
  },
  {
   "cell_type": "code",
   "execution_count": 18,
   "metadata": {},
   "outputs": [],
   "source": [
    "output_df = pd.read_csv('output.csv')"
   ]
  },
  {
   "cell_type": "code",
   "execution_count": 19,
   "metadata": {},
   "outputs": [],
   "source": [
    "top_10_palabras = ['science', 'data', 'learning', 'research', 'computer', 'ai', 'systems', 'applications', 'intelligence', 'field']\n"
   ]
  },
  {
   "cell_type": "code",
   "execution_count": 20,
   "metadata": {},
   "outputs": [],
   "source": [
    "def medir_tiempo_findall_timeit(patron, texto, iteraciones=10000):\n",
    "    tiempo = 0\n",
    "    for _ in range(iteraciones):\n",
    "        tiempo += timeit.timeit(lambda: re.findall(patron, texto), number=1)\n",
    "    return tiempo"
   ]
  },
  {
   "cell_type": "code",
   "execution_count": 21,
   "metadata": {},
   "outputs": [],
   "source": [
    "def medir_tiempo_finditer_timeit(patron, texto, iteraciones=10000):\n",
    "    tiempo = 0\n",
    "    for _ in range(iteraciones):\n",
    "        tiempo += timeit.timeit(lambda: re.finditer(patron, texto), number=1)\n",
    "    return tiempo\n"
   ]
  },
  {
   "cell_type": "code",
   "execution_count": 22,
   "metadata": {},
   "outputs": [],
   "source": [
    "def medir_tiempo_search_timeit(patron, texto, iteraciones=10000):\n",
    "    tiempo = 0\n",
    "    for _ in range(iteraciones):\n",
    "        tiempo += timeit.timeit(lambda: re.search(patron, texto), number=1)\n",
    "    return tiempo\n"
   ]
  },
  {
   "cell_type": "code",
   "execution_count": 23,
   "metadata": {},
   "outputs": [],
   "source": [
    "def medir_tiempo_findall_perf(patron, texto, iteraciones=10000):\n",
    "    inicio = perf_counter()\n",
    "    for _ in range(iteraciones):\n",
    "        re.findall(patron, texto)\n",
    "    fin = perf_counter()\n",
    "    return fin - inicio"
   ]
  },
  {
   "cell_type": "code",
   "execution_count": 24,
   "metadata": {},
   "outputs": [],
   "source": [
    "def medir_tiempo_finditer_perf(patron, texto, iteraciones=10000):\n",
    "    inicio = perf_counter()\n",
    "    for _ in range(iteraciones):\n",
    "        re.finditer(patron, texto)\n",
    "    fin = perf_counter()\n",
    "    return fin - inicio"
   ]
  },
  {
   "cell_type": "code",
   "execution_count": 25,
   "metadata": {},
   "outputs": [],
   "source": [
    "def medir_tiempo_search_perf(patron, texto, iteraciones=10000):\n",
    "    inicio = perf_counter()\n",
    "    for _ in range(iteraciones):\n",
    "        re.search(patron, texto)\n",
    "    fin = perf_counter()\n",
    "    return fin - inicio"
   ]
  },
  {
   "cell_type": "code",
   "execution_count": 26,
   "metadata": {},
   "outputs": [],
   "source": [
    "resultados = []"
   ]
  },
  {
   "cell_type": "code",
   "execution_count": 27,
   "metadata": {},
   "outputs": [],
   "source": [
    "for palabra in top_10_palabras:\n",
    "    patron = fr'\\b{palabra}\\w*'\n",
    "    for index, row in output_df.iterrows():\n",
    "        texto = row['abstractText']\n",
    "        # Medir tiempos usando timeit\n",
    "        tiempo_findall_timeit = medir_tiempo_findall_timeit(patron, texto)\n",
    "        tiempo_finditer_timeit = medir_tiempo_finditer_timeit(patron, texto)\n",
    "        tiempo_search_timeit = medir_tiempo_search_timeit(patron, texto)\n",
    "        # Medir tiempos usando perf_counter\n",
    "        tiempo_findall_perf = medir_tiempo_findall_perf(patron, texto)\n",
    "        tiempo_finditer_perf = medir_tiempo_finditer_perf(patron, texto)\n",
    "        tiempo_search_perf = medir_tiempo_search_perf(patron, texto)\n",
    "\n",
    "        resultados.append({'palabra': palabra, 'metodo': 'findall', 'medicion': 'timeit', 'tiempo': tiempo_findall_timeit, 'texto_index': index})\n",
    "        resultados.append({'palabra': palabra, 'metodo': 'finditer', 'medicion': 'timeit', 'tiempo': tiempo_finditer_timeit, 'texto_index': index})\n",
    "        resultados.append({'palabra': palabra, 'metodo': 'search', 'medicion': 'timeit', 'tiempo': tiempo_search_timeit, 'texto_index': index})\n",
    "        resultados.append({'palabra': palabra, 'metodo': 'findall', 'medicion': 'perf_counter', 'tiempo': tiempo_findall_perf, 'texto_index': index})\n",
    "        resultados.append({'palabra': palabra, 'metodo': 'finditer', 'medicion': 'perf_counter', 'tiempo': tiempo_finditer_perf, 'texto_index': index})\n",
    "        resultados.append({'palabra': palabra, 'metodo': 'search', 'medicion': 'perf_counter', 'tiempo': tiempo_search_perf, 'texto_index': index})"
   ]
  },
  {
   "cell_type": "code",
   "execution_count": 28,
   "metadata": {},
   "outputs": [],
   "source": [
    "resultados_df = pd.DataFrame(resultados)\n",
    "resultados_df.to_csv('resultados_tiempos.csv', index=False)"
   ]
  },
  {
   "cell_type": "markdown",
   "metadata": {},
   "source": []
  },
  {
   "cell_type": "code",
   "execution_count": 29,
   "metadata": {},
   "outputs": [],
   "source": [
    "tiempos = defaultdict(lambda: defaultdict(lambda: defaultdict(list)))\n",
    "promedios_generales = defaultdict(lambda: defaultdict(float))"
   ]
  },
  {
   "cell_type": "markdown",
   "metadata": {},
   "source": [
    "### Lectura datos del csv"
   ]
  },
  {
   "cell_type": "code",
   "execution_count": 30,
   "metadata": {},
   "outputs": [],
   "source": [
    "with open('resultados_tiempos.csv', newline='') as csvfile:\n",
    "    reader = csv.DictReader(csvfile)\n",
    "    for row in reader:\n",
    "        palabra = row['palabra']\n",
    "        algoritmo = row['metodo']\n",
    "        tipo_medicion = row['medicion']\n",
    "        tiempo = float(row['tiempo'])\n",
    "        tiempos[palabra][algoritmo][tipo_medicion].append(tiempo)"
   ]
  },
  {
   "cell_type": "code",
   "execution_count": 31,
   "metadata": {},
   "outputs": [],
   "source": [
    "resultados = []\n",
    "promedios_generales = defaultdict(lambda: defaultdict(float))"
   ]
  },
  {
   "cell_type": "markdown",
   "metadata": {},
   "source": [
    "### Promedio por palabras"
   ]
  },
  {
   "cell_type": "code",
   "execution_count": 32,
   "metadata": {},
   "outputs": [],
   "source": [
    "for palabra, algoritmos in tiempos.items():\n",
    "    for algoritmo, mediciones in algoritmos.items():\n",
    "        for tipo_medicion, tiempos_lista in mediciones.items():\n",
    "            promedio_tiempo = sum(tiempos_lista) / len(tiempos_lista)\n",
    "            resultados.append({\n",
    "                'Palabra': palabra,\n",
    "                'Algoritmo': algoritmo,\n",
    "                'Tipo de Medición': tipo_medicion,\n",
    "                'Promedio Tiempo': promedio_tiempo\n",
    "            })\n",
    "            promedios_generales[algoritmo][tipo_medicion] += promedio_tiempo"
   ]
  },
  {
   "cell_type": "markdown",
   "metadata": {},
   "source": [
    "### Promedio por Algoritmo"
   ]
  },
  {
   "cell_type": "code",
   "execution_count": 33,
   "metadata": {},
   "outputs": [],
   "source": [
    "promedios_generales_resultados = []\n",
    "for algoritmo, mediciones in promedios_generales.items():\n",
    "    for tipo_medicion, tiempo_total in mediciones.items():\n",
    "        cantidad_palabras = len(tiempos)  # Número total de palabras\n",
    "        promedio_general = tiempo_total / cantidad_palabras\n",
    "        promedios_generales_resultados.append({\n",
    "            'Algoritmo': algoritmo,\n",
    "            'Tipo de Medición': tipo_medicion,\n",
    "            'Promedio General': promedio_general\n",
    "        })"
   ]
  },
  {
   "cell_type": "markdown",
   "metadata": {},
   "source": [
    "### Exportar Datos"
   ]
  },
  {
   "cell_type": "code",
   "execution_count": 34,
   "metadata": {},
   "outputs": [],
   "source": [
    "csv_file = 'resultados_palabras.csv'\n",
    "csv_columns = ['Palabra', 'Algoritmo', 'Tipo de Medición', 'Promedio Tiempo']"
   ]
  },
  {
   "cell_type": "code",
   "execution_count": 35,
   "metadata": {},
   "outputs": [],
   "source": [
    "with open(csv_file, 'w', newline='') as csvfile:\n",
    "    writer = csv.DictWriter(csvfile, fieldnames=csv_columns)\n",
    "    writer.writeheader()\n",
    "    for data in resultados:\n",
    "        writer.writerow(data)"
   ]
  },
  {
   "cell_type": "markdown",
   "metadata": {},
   "source": [
    "### Generales"
   ]
  },
  {
   "cell_type": "code",
   "execution_count": 36,
   "metadata": {},
   "outputs": [],
   "source": [
    "csv_file_general = 'resultados_algoritmos.csv'\n",
    "csv_columns_general = ['Algoritmo', 'Tipo de Medición', 'Promedio General']"
   ]
  },
  {
   "cell_type": "code",
   "execution_count": 37,
   "metadata": {},
   "outputs": [],
   "source": [
    "with open(csv_file_general, 'w', newline='') as csvfile:\n",
    "    writer = csv.DictWriter(csvfile, fieldnames=csv_columns_general)\n",
    "    writer.writeheader()\n",
    "    for data in promedios_generales_resultados:\n",
    "        writer.writerow(data)\n"
   ]
  },
  {
   "cell_type": "markdown",
   "metadata": {},
   "source": [
    "## Resultados apartes"
   ]
  },
  {
   "cell_type": "code",
   "execution_count": 38,
   "metadata": {},
   "outputs": [],
   "source": [
    "tiempos = defaultdict(lambda: defaultdict(lambda: defaultdict(list)))\n"
   ]
  },
  {
   "cell_type": "markdown",
   "metadata": {},
   "source": [
    "### Lectura de datos"
   ]
  },
  {
   "cell_type": "code",
   "execution_count": 39,
   "metadata": {},
   "outputs": [],
   "source": [
    "with open('resultados_tiempos.csv', newline='') as csvfile:\n",
    "    reader = csv.DictReader(csvfile)\n",
    "    for row in reader:\n",
    "        palabra = row['palabra']\n",
    "        algoritmo = row['metodo']\n",
    "        tipo_medicion = row['medicion']\n",
    "        tiempo = float(row['tiempo'])\n",
    "        tiempos[palabra][algoritmo][tipo_medicion].append(tiempo)"
   ]
  },
  {
   "cell_type": "markdown",
   "metadata": {},
   "source": [
    "### Preparar datos"
   ]
  },
  {
   "cell_type": "code",
   "execution_count": 40,
   "metadata": {},
   "outputs": [],
   "source": [
    "resultados = defaultdict(list)\n",
    "promedios_generales = defaultdict(lambda: defaultdict(float))"
   ]
  },
  {
   "cell_type": "markdown",
   "metadata": {},
   "source": [
    "### Cálculos de promedios por palabra"
   ]
  },
  {
   "cell_type": "code",
   "execution_count": 41,
   "metadata": {},
   "outputs": [],
   "source": [
    "for palabra, algoritmos in tiempos.items():\n",
    "    for algoritmo, mediciones in algoritmos.items():\n",
    "        for tipo_medicion, tiempos_lista in mediciones.items():\n",
    "            promedio_tiempo = sum(tiempos_lista) / len(tiempos_lista)\n",
    "            resultados[f'{algoritmo}_{tipo_medicion}'].append({\n",
    "                'Palabra': palabra,\n",
    "                'Algoritmo': algoritmo,\n",
    "                'Tipo de Medición': tipo_medicion,\n",
    "                'Promedio Tiempo': promedio_tiempo\n",
    "            })\n",
    "            # Acumular los tiempos para calcular el promedio general por algoritmo\n",
    "            promedios_generales[algoritmo][tipo_medicion] += promedio_tiempo"
   ]
  },
  {
   "cell_type": "markdown",
   "metadata": {},
   "source": [
    "### Exportar"
   ]
  },
  {
   "cell_type": "code",
   "execution_count": 42,
   "metadata": {},
   "outputs": [],
   "source": [
    "csv_columns = ['Palabra', 'Algoritmo', 'Tipo de Medición', 'Promedio Tiempo']"
   ]
  },
  {
   "cell_type": "code",
   "execution_count": 43,
   "metadata": {},
   "outputs": [],
   "source": [
    "for key, data_list in resultados.items():\n",
    "    csv_file = f'resultados_{key}.csv'\n",
    "    with open(csv_file, 'w', newline='') as csvfile:\n",
    "        writer = csv.DictWriter(csvfile, fieldnames=csv_columns)\n",
    "        writer.writeheader()\n",
    "        for data in data_list:\n",
    "            writer.writerow(data)"
   ]
  }
 ],
 "metadata": {
  "kernelspec": {
   "display_name": "Python 3",
   "language": "python",
   "name": "python3"
  },
  "language_info": {
   "codemirror_mode": {
    "name": "ipython",
    "version": 3
   },
   "file_extension": ".py",
   "mimetype": "text/x-python",
   "name": "python",
   "nbconvert_exporter": "python",
   "pygments_lexer": "ipython3",
   "version": "3.12.3"
  }
 },
 "nbformat": 4,
 "nbformat_minor": 2
}
